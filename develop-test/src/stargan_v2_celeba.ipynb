{
 "cells": [
  {
   "cell_type": "markdown",
   "metadata": {
    "id": "adXrbrwhYxIu"
   },
   "source": [
    "## Setup"
   ]
  },
  {
   "cell_type": "code",
   "execution_count": null,
   "metadata": {},
   "outputs": [],
   "source": [
    "!cd stargan-v2"
   ]
  },
  {
   "cell_type": "code",
   "execution_count": null,
   "metadata": {
    "id": "kFaalRKDtspC"
   },
   "outputs": [],
   "source": [
    "!conda activate stargan-v2"
   ]
  },
  {
   "cell_type": "markdown",
   "metadata": {
    "id": "hle6JrE1ZVPR"
   },
   "source": [
    "## Training"
   ]
  },
  {
   "cell_type": "code",
   "execution_count": null,
   "metadata": {
    "colab": {
     "background_save": true
    },
    "id": "8oTS_CMsZdHT"
   },
   "outputs": [],
   "source": [
    "!python3 main.py --mode train --num_domains 2 --w_hpf 1 \\\n",
    "                --lambda_reg 1 --lambda_sty 1 --lambda_ds 1 --lambda_cyc 1 \\\n",
    "                --train_img_dir data/celeba_hq/train \\\n",
    "                --val_img_dir data/celeba_hq/val"
   ]
  },
  {
   "cell_type": "markdown",
   "metadata": {
    "id": "YLKPk8zLZYZ8"
   },
   "source": [
    "## Generate with my model"
   ]
  },
  {
   "cell_type": "code",
   "execution_count": null,
   "metadata": {
    "colab": {
     "base_uri": "https://localhost:8080/"
    },
    "id": "IoSvWEMIaSw1",
    "outputId": "c74400be-9d96-40ad-eb61-afbbd685f66d"
   },
   "outputs": [],
   "source": [
    "!python3 main.py --mode align \\\n",
    "                --inp_dir assets/representative/custom/male \\\n",
    "                --out_dir assets/representative/celeba_hq/src/male"
   ]
  },
  {
   "cell_type": "code",
   "execution_count": null,
   "metadata": {
    "colab": {
     "base_uri": "https://localhost:8080/"
    },
    "id": "66BQS3jIZcHH",
    "outputId": "8be9bbee-1b35-4747-d109-2b8180bcf300"
   },
   "outputs": [],
   "source": [
    "!python3 main.py --mode sample --num_domains 2 --resume_iter 100000 --w_hpf 1 \\\n",
    "                --checkpoint_dir expr/checkpoints/celeba_hq \\\n",
    "                --result_dir expr/results/celeba_hq \\\n",
    "                --src_dir assets/representative/celeba_hq/src \\\n",
    "                --ref_dir assets/representative/celeba_hq/ref"
   ]
  },
  {
   "cell_type": "markdown",
   "metadata": {
    "id": "HmiTseOZZnY_"
   },
   "source": [
    "## Evaluation"
   ]
  },
  {
   "cell_type": "code",
   "execution_count": null,
   "metadata": {
    "colab": {
     "background_save": true
    },
    "id": "jw4qgc0cZpuk"
   },
   "outputs": [],
   "source": [
    "!python3 main.py --mode eval --num_domains 2 --w_hpf 1 \\\n",
    "                --resume_iter 100000 \\\n",
    "                --train_img_dir data/celeba_hq/train \\\n",
    "                --val_img_dir data/celeba_hq/val \\\n",
    "                --checkpoint_dir expr/checkpoints/celeba_hq \\\n",
    "                --eval_dir expr/eval/celeba_hq"
   ]
  }
 ],
 "metadata": {
  "accelerator": "GPU",
  "colab": {
   "collapsed_sections": [],
   "name": "stargan-v2-celeba",
   "provenance": []
  },
  "kernelspec": {
   "display_name": "Python 3",
   "language": "python",
   "name": "python3"
  },
  "language_info": {
   "codemirror_mode": {
    "name": "ipython",
    "version": 3
   },
   "file_extension": ".py",
   "mimetype": "text/x-python",
   "name": "python",
   "nbconvert_exporter": "python",
   "pygments_lexer": "ipython3",
   "version": "3.8.5"
  }
 },
 "nbformat": 4,
 "nbformat_minor": 1
}
