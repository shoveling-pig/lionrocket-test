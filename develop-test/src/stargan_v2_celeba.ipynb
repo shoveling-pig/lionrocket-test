{
 "cells": [
  {
   "cell_type": "markdown",
   "source": [
    "## Setup"
   ],
   "metadata": {
    "id": "adXrbrwhYxIu"
   }
  },
  {
   "cell_type": "code",
   "execution_count": null,
   "source": [
    "!git clone https://github.com/shoveling-pig/custom-stargan-v2.git"
   ],
   "outputs": [],
   "metadata": {}
  },
  {
   "cell_type": "code",
   "execution_count": null,
   "source": [
    "!cd custom-stargan-v2"
   ],
   "outputs": [],
   "metadata": {}
  },
  {
   "cell_type": "code",
   "execution_count": null,
   "source": [
    "!conda create -n custom-stargan-v2 python=3.6.7\n",
    "!conda activate custom-stargan-v2\n",
    "!conda install -y pytorch=1.4.0 torchvision=0.5.0 cudatoolkit=9.0 -c pytorch\n",
    "!conda install x264=='1!152.20180717' ffmpeg=4.0.2 -c conda-forge\n",
    "!pip install -r requirements.txt"
   ],
   "outputs": [],
   "metadata": {
    "id": "kFaalRKDtspC"
   }
  },
  {
   "cell_type": "code",
   "execution_count": null,
   "source": [
    "!conda activate custom-stargan-v2"
   ],
   "outputs": [],
   "metadata": {}
  },
  {
   "cell_type": "markdown",
   "source": [
    "## Training"
   ],
   "metadata": {
    "id": "hle6JrE1ZVPR"
   }
  },
  {
   "cell_type": "code",
   "execution_count": null,
   "source": [
    "!bash download.sh celeba-hq-dataset\n",
    "!bash download.sh pretrained-network-celeba-hq\n",
    "!bash download.sh wing"
   ],
   "outputs": [],
   "metadata": {}
  },
  {
   "cell_type": "code",
   "execution_count": null,
   "source": [
    "!python main.py --mode train --num_domains 2 --w_hpf 1 \\\n",
    "                --lambda_reg 1 --lambda_sty 1 --lambda_ds 1 --lambda_cyc 1 \\\n",
    "                --train_img_dir data/celeba_hq/train \\\n",
    "                --val_img_dir data/celeba_hq/val"
   ],
   "outputs": [],
   "metadata": {
    "colab": {
     "background_save": true
    },
    "id": "8oTS_CMsZdHT"
   }
  },
  {
   "cell_type": "markdown",
   "source": [
    "## Generate with my model"
   ],
   "metadata": {
    "id": "YLKPk8zLZYZ8"
   }
  },
  {
   "cell_type": "code",
   "execution_count": null,
   "source": [
    "!python main.py --mode align \\\n",
    "                --inp_dir assets/representative/custom/male \\\n",
    "                --out_dir assets/representative/celeba_hq/src/male"
   ],
   "outputs": [],
   "metadata": {
    "colab": {
     "base_uri": "https://localhost:8080/"
    },
    "id": "IoSvWEMIaSw1",
    "outputId": "c74400be-9d96-40ad-eb61-afbbd685f66d"
   }
  },
  {
   "cell_type": "code",
   "execution_count": null,
   "source": [
    "!python main.py --mode sample --num_domains 2 --resume_iter 100000 --w_hpf 1 \\\n",
    "                --checkpoint_dir expr/checkpoints/celeba_hq \\\n",
    "                --result_dir expr/results/celeba_hq \\\n",
    "                --src_dir assets/representative/celeba_hq/src \\\n",
    "                --ref_dir assets/representative/celeba_hq/ref"
   ],
   "outputs": [],
   "metadata": {
    "colab": {
     "base_uri": "https://localhost:8080/"
    },
    "id": "66BQS3jIZcHH",
    "outputId": "8be9bbee-1b35-4747-d109-2b8180bcf300"
   }
  },
  {
   "cell_type": "code",
   "execution_count": null,
   "source": [
    "!python main.py --mode custom \\\n",
    "               -o starganv2_cross_celeba.jpg \\\n",
    "               -s assets/representative/celeba_hq/src/male/test_me.jpg \\\n",
    "               -r assets/representative/celeba_hq/ref/female/081871.jpg"
   ],
   "outputs": [],
   "metadata": {}
  },
  {
   "cell_type": "markdown",
   "source": [
    "## Evaluation"
   ],
   "metadata": {
    "id": "HmiTseOZZnY_"
   }
  },
  {
   "cell_type": "code",
   "execution_count": null,
   "source": [
    "!python main.py --mode eval --num_domains 2 --w_hpf 1 \\\n",
    "                --resume_iter 100000 \\\n",
    "                --train_img_dir data/celeba_hq/train \\\n",
    "                --val_img_dir data/celeba_hq/val \\\n",
    "                --checkpoint_dir expr/checkpoints/celeba_hq \\\n",
    "                --eval_dir expr/eval/celeba_hq"
   ],
   "outputs": [],
   "metadata": {
    "colab": {
     "background_save": true
    },
    "id": "jw4qgc0cZpuk"
   }
  },
  {
   "cell_type": "code",
   "execution_count": null,
   "source": [
    "!python -m metrics.fid --paths PATH_REAL PATH_FAKE"
   ],
   "outputs": [],
   "metadata": {}
  }
 ],
 "metadata": {
  "accelerator": "GPU",
  "colab": {
   "collapsed_sections": [],
   "name": "stargan-v2-celeba",
   "provenance": []
  },
  "kernelspec": {
   "display_name": "Python 3",
   "language": "python",
   "name": "python3"
  },
  "language_info": {
   "codemirror_mode": {
    "name": "ipython",
    "version": 3
   },
   "file_extension": ".py",
   "mimetype": "text/x-python",
   "name": "python",
   "nbconvert_exporter": "python",
   "pygments_lexer": "ipython3",
   "version": "3.8.5"
  }
 },
 "nbformat": 4,
 "nbformat_minor": 1
}